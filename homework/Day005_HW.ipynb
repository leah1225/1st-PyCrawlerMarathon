{
 "cells": [
  {
   "cell_type": "markdown",
   "metadata": {},
   "source": [
    "# API 資料串接 - 以 Dcard API 實作範例\n",
    "\n",
    "* 利用 urllib 套件的 urlretrieve 方法下載檔案\n",
    "* 了解 Python File I/O 讀檔、寫檔的用法\n",
    "* 能用運用資源管理器 With Statement 優化寫法"
   ]
  },
  {
   "cell_type": "markdown",
   "metadata": {},
   "source": [
    "## 作業目標\n",
    "\n",
    "* 請利用 API: https://www.dcard.tw/_api/forums/pet/posts?popular=true 回答下列問題：\n",
    "\n",
    "1. 這個 API 一次會回傳幾筆資料？每一筆資料包含哪些欄位？\n",
    "2. 取出每一筆資料的「標題」、「貼文時間」、「留言人數」、「按讚人數」\n",
    "3. 計算熱門/非熱門文章的「平均留言人數」與「平均按讚人數」"
   ]
  },
  {
   "cell_type": "code",
   "execution_count": 1,
   "metadata": {},
   "outputs": [],
   "source": [
    "import requests\n",
    "import json\n",
    "\n",
    "r = requests.get(\"https://www.dcard.tw/_api/forums/pet/posts?popular=true\")\n",
    "#json.loads(r.text)"
   ]
  },
  {
   "cell_type": "code",
   "execution_count": 48,
   "metadata": {},
   "outputs": [
    {
     "name": "stdout",
     "output_type": "stream",
     "text": [
      "30\n",
      "id\n",
      "title\n",
      "excerpt\n",
      "anonymousSchool\n",
      "anonymousDepartment\n",
      "pinned\n",
      "forumId\n",
      "replyId\n",
      "createdAt\n",
      "updatedAt\n",
      "commentCount\n",
      "likeCount\n",
      "withNickname\n",
      "tags\n",
      "topics\n",
      "meta\n",
      "forumName\n",
      "forumAlias\n",
      "gender\n",
      "school\n",
      "department\n",
      "replyTitle\n",
      "mediaMeta\n",
      "reactions\n",
      "hidden\n",
      "customStyle\n",
      "isSuspiciousAccount\n",
      "layout\n",
      "withImages\n",
      "withVideos\n",
      "media\n",
      "reportReasonText\n",
      "postAvatar\n"
     ]
    }
   ],
   "source": [
    "# 1. 這個 API 一次會回傳幾筆資料？每一筆資料包含哪些欄位？\n",
    "\n",
    "response = r.text\n",
    "data = json.loads(response)\n",
    "\n",
    "print(len(data))\n",
    "\n",
    "#data[0]\n",
    "\n",
    "for i  in data[0]:\n",
    "    print(i)"
   ]
  },
  {
   "cell_type": "code",
   "execution_count": 21,
   "metadata": {},
   "outputs": [
    {
     "name": "stdout",
     "output_type": "stream",
     "text": [
      "我養到別人家的貓 2019-11-27T02:15:28.197Z 22 639\n",
      "哪裡來的天使 2019-11-27T03:55:26.087Z 7 513\n",
      "最近刺蝟有點苦惱…… 2019-11-27T14:09:04.187Z 10 389\n",
      "有沒有人想要認養貓😢 2019-11-27T04:05:54.907Z 16 244\n",
      "貓咪送養 2019-11-27T15:53:37.579Z 6 93\n",
      "我好像養了一顆球（？ 2019-11-27T02:51:29.228Z 8 63\n",
      "跪求原圖 2019-11-27T09:03:30.781Z 7 49\n",
      "教不到2天就會握手的貓？！ 2019-11-27T19:05:47.181Z 22 46\n",
      "可愛ㄉ米克斯🐶 2019-11-27T03:08:52.535Z 10 46\n",
      "小cookie 一歲生日嘍 2019-11-27T13:29:28.841Z 2 44\n",
      "黑貓 2019-11-27T01:46:18.916Z 4 44\n",
      "這些狗你認識嗎😍 2019-11-28T04:08:18.539Z 6 39\n",
      "兔子吃草a跩樣 2019-11-27T17:48:07.040Z 2 30\n",
      "開箱ㄐㄅ貓貓 2019-11-27T16:20:13.198Z 1 30\n",
      "充滿柴柴的人生❤️ 2019-11-28T07:19:45.391Z 2 29\n",
      "送養貓咪 2019-11-27T14:33:01.950Z 2 29\n",
      "#更新  尋貓啟示（拜託幫幫忙 2019-11-27T02:42:25.099Z 2 26\n",
      "耐ㄍ⋯ 2019-11-27T16:36:38.742Z 7 23\n",
      "尋貓啟示 更新#高雄岡山岡燕路全聯附近 2019-11-27T11:11:21.836Z 6 21\n",
      "幼貓送養文 2019-11-28T02:52:25.651Z 4 19\n",
      "妳的柯基犬很可愛 2019-11-27T12:15:40.192Z 12 19\n",
      "蛇蛇吃飯（不喜勿入喔 2019-11-27T07:36:04.550Z 6 19\n",
      "［協助汪星人回家］ 2019-11-27T02:13:43.258Z 0 17\n",
      "高科大校板的遺失倉鼠 2019-11-28T05:23:12.530Z 0 15\n",
      "貓咪要如何避免被自己的💩臭死？ 2019-11-27T14:33:19.704Z 2 15\n",
      "終於知道去哪裡學來的睡姿⋯⋯ 2019-11-27T08:59:09.803Z 8 13\n",
      "請問這樣算不算虐貓 2019-11-28T09:04:40.825Z 3 12\n",
      "#募款 #貓 愛在街角，守護浪貓 2019-11-28T07:11:04.741Z 1 11\n",
      "睡姿同步之雙傻組 2019-11-27T00:56:58.462Z 1 11\n",
      "紙袋破壞王🏆 2019-11-28T09:43:33.709Z 0 10\n"
     ]
    }
   ],
   "source": [
    "# 2. 取出每一筆資料的「標題」、「貼文時間」、「留言人數」、「按讚人數」\n",
    "\n",
    "for d in data:\n",
    "    print(d['title'], d['createdAt'], d['commentCount'], d['likeCount'])"
   ]
  },
  {
   "cell_type": "code",
   "execution_count": 59,
   "metadata": {},
   "outputs": [
    {
     "name": "stdout",
     "output_type": "stream",
     "text": [
      "熱門文章平均留言人數： 6.466666666666667 熱門文章平均按讚人數： 96.5\n",
      "非熱門文章平均留言人數： 2.1 非熱門文章平均按讚人數： 10.2\n"
     ]
    }
   ],
   "source": [
    "# 3. 計算熱門/非熱門文章的「平均留言人數」與「平均按讚人數」\n",
    "\n",
    "r1 = requests.get(\"https://www.dcard.tw/_api/forums/pet/posts?popular=true\")\n",
    "r2 = requests.get(\"https://www.dcard.tw/_api/forums/pet/posts?popular=false\")\n",
    "\n",
    "popularData = json.loads(r1.text)\n",
    "unpopularData = json.loads(r2.text)\n",
    "\n",
    "sumComment = 0\n",
    "sumLike = 0\n",
    "\n",
    "for d in popularData:\n",
    "    sumComment += d['commentCount']\n",
    "    sumLike += d['likeCount']\n",
    "print(\"熱門文章平均留言人數：\",sumComment/len(data),\"熱門文章平均按讚人數：\",sumLike/len(data))\n",
    "\n",
    "sumComment = 0\n",
    "sumLike = 0\n",
    "\n",
    "for d in unpopularData:\n",
    "    sumComment += d['commentCount']\n",
    "    sumLike += d['likeCount']\n",
    "print(\"非熱門文章平均留言人數：\",sumComment/len(data),\"非熱門文章平均按讚人數：\",sumLike/len(data))"
   ]
  },
  {
   "cell_type": "code",
   "execution_count": null,
   "metadata": {},
   "outputs": [],
   "source": []
  }
 ],
 "metadata": {
  "kernelspec": {
   "display_name": "Python 3",
   "language": "python",
   "name": "python3"
  },
  "language_info": {
   "codemirror_mode": {
    "name": "ipython",
    "version": 3
   },
   "file_extension": ".py",
   "mimetype": "text/x-python",
   "name": "python",
   "nbconvert_exporter": "python",
   "pygments_lexer": "ipython3",
   "version": "3.7.4"
  }
 },
 "nbformat": 4,
 "nbformat_minor": 2
}
