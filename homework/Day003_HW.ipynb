{
 "cells": [
  {
   "cell_type": "markdown",
   "metadata": {},
   "source": [
    "# Python 下載XML檔案與解析\n",
    "\n",
    "\n",
    "* 了解 xml 檔案格式與內容\n",
    "* 能夠利用套件存取 xml 格式的檔案\n"
   ]
  },
  {
   "cell_type": "markdown",
   "metadata": {},
   "source": [
    "## 作業目標\n",
    "\n",
    "* 比較一下範例檔案中的「File I/O」與「xmltodict」讀出來的內容有什麼差異\n",
    "\n",
    "* 根據範例檔案的結果：\n",
    "    1. 請問高雄市有多少地區有溫度資料？\n",
    "    2. 請取出每一個地區所記錄的第一個時間點跟溫度\n",
    "    3. 請取出第一個地區所記錄的每一個時間點跟溫度"
   ]
  },
  {
   "cell_type": "markdown",
   "metadata": {},
   "source": [
    "### 比較一下範例檔案中的「File I/O」與「xmltodict」讀出來的內容有什麼差異\n"
   ]
  },
  {
   "cell_type": "markdown",
   "metadata": {},
   "source": [
    "- File I/O：使用File I/O讀取檔案時無法選擇特定的內容讀取，需要將整份xml檔案print out，顯示出來的資料帶有標籤。\n",
    "- xmltodict：可以選取特定的標籤顯示需要的資料。顯示出來的資料不會帶有標籤。"
   ]
  },
  {
   "cell_type": "markdown",
   "metadata": {},
   "source": [
    "### 根據範例檔案的結果：\n",
    "\n",
    "1. 請問高雄市有多少地區有溫度資料？\n",
    "2. 請取出每一個地區所記錄的第一個時間點跟溫度\n",
    "3. 請取出第一個地區所記錄的每一個時間點跟溫度"
   ]
  },
  {
   "cell_type": "code",
   "execution_count": 66,
   "metadata": {},
   "outputs": [],
   "source": [
    "import urllib.request\n",
    "import zipfile\n",
    "\n",
    "res = \"http://opendata.cwb.gov.tw/govdownload?dataid=F-D0047-093&authorizationkey=rdec-key-123-45678-011121314\"\n",
    "urllib.request.urlretrieve(res, \"./data/example.zip\")\n",
    "f = zipfile.ZipFile('/Users/b06701161/Desktop/Data/example.zip')\n",
    "f.extractall('/Users/b06701161/Desktop/Data')\n",
    "\n",
    "import os, sys\n",
    "\n",
    "fh = open(\"/Users/b06701161/Desktop/Data/64_72hr_CH.xml\", \"r\")\n",
    "xml = fh.read()\n",
    "fh.close()\n",
    "\n",
    "import xmltodict\n",
    "d = dict(xmltodict.parse(xml))"
   ]
  },
  {
   "cell_type": "code",
   "execution_count": 67,
   "metadata": {},
   "outputs": [
    {
     "data": {
      "text/plain": [
       "38"
      ]
     },
     "execution_count": 67,
     "metadata": {},
     "output_type": "execute_result"
    }
   ],
   "source": [
    "# 1. 請問高雄市有多少地區有溫度資料？\n",
    "\n",
    "location = d['cwbopendata']['dataset']['locations']['location']\n",
    "\n",
    "len(location)"
   ]
  },
  {
   "cell_type": "code",
   "execution_count": 68,
   "metadata": {},
   "outputs": [
    {
     "name": "stdout",
     "output_type": "stream",
     "text": [
      "鹽埕區 2019-11-22T18:00:00+08:00 26\n",
      "鼓山區 2019-11-22T18:00:00+08:00 26\n",
      "左營區 2019-11-22T18:00:00+08:00 25\n",
      "楠梓區 2019-11-22T18:00:00+08:00 26\n",
      "三民區 2019-11-22T18:00:00+08:00 25\n",
      "新興區 2019-11-22T18:00:00+08:00 26\n",
      "前金區 2019-11-22T18:00:00+08:00 26\n",
      "苓雅區 2019-11-22T18:00:00+08:00 26\n",
      "前鎮區 2019-11-22T18:00:00+08:00 26\n",
      "旗津區 2019-11-22T18:00:00+08:00 25\n",
      "小港區 2019-11-22T18:00:00+08:00 26\n",
      "鳳山區 2019-11-22T18:00:00+08:00 26\n",
      "林園區 2019-11-22T18:00:00+08:00 26\n",
      "大寮區 2019-11-22T18:00:00+08:00 26\n",
      "大樹區 2019-11-22T18:00:00+08:00 26\n",
      "大社區 2019-11-22T18:00:00+08:00 26\n",
      "仁武區 2019-11-22T18:00:00+08:00 26\n",
      "鳥松區 2019-11-22T18:00:00+08:00 26\n",
      "岡山區 2019-11-22T18:00:00+08:00 26\n",
      "橋頭區 2019-11-22T18:00:00+08:00 26\n",
      "燕巢區 2019-11-22T18:00:00+08:00 26\n",
      "田寮區 2019-11-22T18:00:00+08:00 24\n",
      "阿蓮區 2019-11-22T18:00:00+08:00 25\n",
      "路竹區 2019-11-22T18:00:00+08:00 25\n",
      "湖內區 2019-11-22T18:00:00+08:00 24\n",
      "茄萣區 2019-11-22T18:00:00+08:00 24\n",
      "永安區 2019-11-22T18:00:00+08:00 24\n",
      "彌陀區 2019-11-22T18:00:00+08:00 24\n",
      "梓官區 2019-11-22T18:00:00+08:00 25\n",
      "旗山區 2019-11-22T18:00:00+08:00 25\n",
      "美濃區 2019-11-22T18:00:00+08:00 26\n",
      "六龜區 2019-11-22T18:00:00+08:00 23\n",
      "甲仙區 2019-11-22T18:00:00+08:00 22\n",
      "杉林區 2019-11-22T18:00:00+08:00 25\n",
      "內門區 2019-11-22T18:00:00+08:00 24\n",
      "茂林區 2019-11-22T18:00:00+08:00 24\n",
      "桃源區 2019-11-22T18:00:00+08:00 21\n",
      "那瑪夏區 2019-11-22T18:00:00+08:00 19\n"
     ]
    }
   ],
   "source": [
    "# 2. 請取出每一個地區所記錄的第一個時間點跟溫度\n",
    "\n",
    "for i in range(len(location)):\n",
    "    print(location[i]['locationName'], location[i]['weatherElement'][0]['time'][0]['dataTime'], location[i]['weatherElement'][0]['time'][0]['elementValue']['value'])"
   ]
  },
  {
   "cell_type": "code",
   "execution_count": 71,
   "metadata": {
    "scrolled": true
   },
   "outputs": [
    {
     "name": "stdout",
     "output_type": "stream",
     "text": [
      "鹽埕區\n",
      "2019-11-22T18:00:00+08:00 26\n",
      "2019-11-22T21:00:00+08:00 25\n",
      "2019-11-23T00:00:00+08:00 24\n",
      "2019-11-23T03:00:00+08:00 23\n",
      "2019-11-23T06:00:00+08:00 22\n",
      "2019-11-23T09:00:00+08:00 24\n",
      "2019-11-23T12:00:00+08:00 28\n",
      "2019-11-23T15:00:00+08:00 28\n",
      "2019-11-23T18:00:00+08:00 26\n",
      "2019-11-23T21:00:00+08:00 25\n",
      "2019-11-24T00:00:00+08:00 24\n",
      "2019-11-24T03:00:00+08:00 23\n",
      "2019-11-24T06:00:00+08:00 22\n",
      "2019-11-24T09:00:00+08:00 24\n",
      "2019-11-24T12:00:00+08:00 28\n",
      "2019-11-24T15:00:00+08:00 28\n",
      "2019-11-24T18:00:00+08:00 26\n",
      "2019-11-24T21:00:00+08:00 25\n",
      "2019-11-25T00:00:00+08:00 24\n",
      "2019-11-25T03:00:00+08:00 23\n",
      "2019-11-25T06:00:00+08:00 22\n",
      "2019-11-25T09:00:00+08:00 24\n",
      "2019-11-25T12:00:00+08:00 26\n",
      "2019-11-25T15:00:00+08:00 26\n"
     ]
    }
   ],
   "source": [
    "# 3. 請取出第一個地區所記錄的每一個時間點跟溫度\n",
    "\n",
    "print(location[0]['locationName'])\n",
    "location1time = location[0]['weatherElement'][0]['time']\n",
    "\n",
    "for i in range(0,len(location1time)):\n",
    "    print(location1time[i]['dataTime'], location1time[i]['elementValue']['value'])"
   ]
  }
 ],
 "metadata": {
  "kernelspec": {
   "display_name": "Python 3",
   "language": "python",
   "name": "python3"
  },
  "language_info": {
   "codemirror_mode": {
    "name": "ipython",
    "version": 3
   },
   "file_extension": ".py",
   "mimetype": "text/x-python",
   "name": "python",
   "nbconvert_exporter": "python",
   "pygments_lexer": "ipython3",
   "version": "3.7.4"
  }
 },
 "nbformat": 4,
 "nbformat_minor": 2
}
